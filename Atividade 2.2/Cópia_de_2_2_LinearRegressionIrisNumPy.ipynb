{
  "cells": [
    {
      "cell_type": "markdown",
      "metadata": {
        "id": "5yQgzdjbf9RT"
      },
      "source": [
        "# Regressão Linear com NumPy"
      ]
    },
    {
      "cell_type": "markdown",
      "metadata": {
        "heading_collapsed": true,
        "id": "p5HfrYM3f9RU"
      },
      "source": [
        "## Objetivos deste experimento"
      ]
    },
    {
      "cell_type": "markdown",
      "metadata": {
        "hidden": true,
        "id": "IIYC2db7f9RW"
      },
      "source": [
        "Este exemplo utiliza regressão linear para estimar o comprimento das sépalas da íris a partir do seu comprimento das pétalas.\n",
        "Utiliza-se programação totalmente NumPy com:\n",
        "- o **cálculo do gradiente**,\n",
        "- a **função de perda** e\n",
        "- a atualização dos parâmetros são feitos de forma explícita.\n",
        "- A rede é criada com uma camada como uma classe"
      ]
    },
    {
      "cell_type": "markdown",
      "metadata": {
        "hidden": true,
        "id": "ImJOZIiNf9RW"
      },
      "source": [
        "![alt text](https://raw.githubusercontent.com/vcasadei/images/master/RegressaoLinear_Otimizacao.png)"
      ]
    },
    {
      "cell_type": "markdown",
      "metadata": {
        "heading_collapsed": true,
        "id": "EeTHWCuMf9RX"
      },
      "source": [
        "## Importação dos pacotes"
      ]
    },
    {
      "cell_type": "code",
      "execution_count": 1,
      "metadata": {
        "ExecuteTime": {
          "end_time": "2017-10-08T11:19:38.728936Z",
          "start_time": "2017-10-08T11:19:36.888541Z"
        },
        "hidden": true,
        "id": "5yPytaCLf9RY"
      },
      "outputs": [],
      "source": [
        "%matplotlib inline\n",
        "import matplotlib.pyplot as plt   # para plotting\n",
        "\n",
        "from sklearn.datasets import load_iris  # para carregar dataset\n",
        "\n",
        "import numpy as np  # processamento matricial\n",
        "\n",
        "np.random.seed(1234)"
      ]
    },
    {
      "cell_type": "markdown",
      "metadata": {
        "heading_collapsed": true,
        "id": "wDkSLSnmf9Rc"
      },
      "source": [
        "## Dataset"
      ]
    },
    {
      "cell_type": "markdown",
      "metadata": {
        "heading_collapsed": true,
        "hidden": true,
        "id": "ldcOnrBvf9Rd"
      },
      "source": [
        "### Leitura dos dados"
      ]
    },
    {
      "cell_type": "code",
      "execution_count": 2,
      "metadata": {
        "ExecuteTime": {
          "end_time": "2017-10-08T11:19:38.747769Z",
          "start_time": "2017-10-08T11:19:38.730907Z"
        },
        "colab": {
          "base_uri": "https://localhost:8080/"
        },
        "hidden": true,
        "id": "l3t1qaa0f9Re",
        "outputId": "80108ff3-a1e3-4c4d-bc90-e6502a0cfc33"
      },
      "outputs": [
        {
          "output_type": "stream",
          "name": "stdout",
          "text": [
            "x_train.shape: (50, 1) float64\n",
            "y_train.shape: (50, 1) float64\n",
            "x_train[:5]:\n",
            " [[7. ]\n",
            " [6.4]\n",
            " [6.9]\n",
            " [5.5]\n",
            " [6.5]]\n",
            "y_train[:5]:\n",
            " [[4.7]\n",
            " [4.5]\n",
            " [4.9]\n",
            " [4. ]\n",
            " [4.6]]\n"
          ]
        }
      ],
      "source": [
        "iris = load_iris()\n",
        "data = iris.data[iris.target==1,::2]  # comprimento das sépalas e pétalas, indices 0 e 2\n",
        "\n",
        "x_train = data[:,0:1]\n",
        "y_train = data[:,1:2]\n",
        "\n",
        "n_samples = x_train.shape[0]\n",
        "print('x_train.shape:',x_train.shape, x_train.dtype)\n",
        "print('y_train.shape:',y_train.shape, y_train.dtype)\n",
        "\n",
        "print('x_train[:5]:\\n', x_train[:5])\n",
        "print('y_train[:5]:\\n', y_train[:5])"
      ]
    },
    {
      "cell_type": "markdown",
      "metadata": {
        "hidden": true,
        "id": "aPQ-L6FVf9Rk"
      },
      "source": [
        "### Normalização dos dados"
      ]
    },
    {
      "cell_type": "code",
      "execution_count": 3,
      "metadata": {
        "ExecuteTime": {
          "end_time": "2017-10-08T11:19:38.756343Z",
          "start_time": "2017-10-08T11:19:38.750395Z"
        },
        "hidden": true,
        "id": "POM323GEf9Rl"
      },
      "outputs": [],
      "source": [
        "x_train -= x_train.min()\n",
        "x_train /= x_train.max()\n",
        "y_train -= y_train.min()\n",
        "y_train /= y_train.max()"
      ]
    },
    {
      "cell_type": "code",
      "execution_count": 4,
      "metadata": {
        "ExecuteTime": {
          "end_time": "2017-10-08T11:19:39.127199Z",
          "start_time": "2017-10-08T11:19:38.759104Z"
        },
        "colab": {
          "base_uri": "https://localhost:8080/",
          "height": 466
        },
        "hidden": true,
        "id": "dx5AO9Qxf9Rn",
        "outputId": "9a699a4c-5281-466d-a5e0-7e62af82a347"
      },
      "outputs": [
        {
          "output_type": "execute_result",
          "data": {
            "text/plain": [
              "Text(0, 0.5, 'Comprimento petalas')"
            ]
          },
          "metadata": {},
          "execution_count": 4
        },
        {
          "output_type": "display_data",
          "data": {
            "text/plain": [
              "<Figure size 640x480 with 1 Axes>"
            ],
            "image/png": "[encoded data removed]"
          },
          "metadata": {}
        }
      ],
      "source": [
        "plt.scatter(x_train,y_train)\n",
        "plt.xlabel('Comprimento sepalas')\n",
        "plt.ylabel('Comprimento petalas')"
      ]
    },
    {
      "cell_type": "markdown",
      "metadata": {
        "heading_collapsed": true,
        "id": "poW81teqf9Rr"
      },
      "source": [
        "## Modelo da rede"
      ]
    },
    {
      "cell_type": "markdown",
      "metadata": {
        "hidden": true,
        "id": "QXFLlJ0_f9Rt"
      },
      "source": [
        "### Reta de ajuste"
      ]
    },
    {
      "cell_type": "markdown",
      "metadata": {
        "hidden": true,
        "id": "s7JuPXysf9Rt"
      },
      "source": [
        "A equação da reta no plano necessita de dois parâmetros, aqui denominados $w_0$ (*bias*) e inclinação $w_1$. Veja figura:\n",
        "\n",
        "![alt text](https://raw.githubusercontent.com/vcasadei/images/master/linhareta.png)\n",
        "\n",
        "A reta de ajuste será dada por:\n",
        "\n",
        "$$ \\hat{y} = w_0 + w_1 x $$\n",
        "\n",
        "onde\n",
        "* $w_1$ é o coeficiente angular da reta e\n",
        "* $w_0$ é a interseção do eixo vertical quando x é igual a zero, também denominado de *bias*.\n",
        "* $x$ é a variável de entrada (comprimento das sépalas) e\n",
        "* $\\hat{y}$ é a predição (comprimento estimado das pétalas)."
      ]
    },
    {
      "cell_type": "markdown",
      "metadata": {
        "hidden": true,
        "id": "hwin_xPff9Ru"
      },
      "source": [
        "### Linear Regression Model"
      ]
    },
    {
      "cell_type": "markdown",
      "metadata": {
        "hidden": true,
        "id": "c7ilOLnkf9Rw"
      },
      "source": [
        "![alt text](https://raw.githubusercontent.com/vcasadei/images/master/RegressaoLinearNeuronio.png)"
      ]
    },
    {
      "cell_type": "markdown",
      "metadata": {
        "hidden": true,
        "id": "H0CzMB91f9Rx"
      },
      "source": [
        "### Formulação matricial do neurônio"
      ]
    },
    {
      "cell_type": "markdown",
      "metadata": {
        "hidden": true,
        "id": "-wWz_wpYf9Ry"
      },
      "source": [
        "* $\\mathbf{w} = [w_0 \\ w_1]$ é vetor linha de parâmetros e\n",
        "* $\\mathbf{x} = [1 \\ x_0] $ é vetor linha de uma amostra (com *bias*).\n",
        "\n",
        "$$ \\hat{y} = 1 w_0 + x_0 w_1 $$\n",
        "\n",
        "$$ [\\hat{y}] = [1 \\ x_0] \\begin{bmatrix} w_0 \\\\ w_1 \\end{bmatrix} $$\n",
        "\n",
        "$$ \\mathbf{\\hat{y}} = \\mathbf{x} \\mathbf{w^T} $$"
      ]
    },
    {
      "cell_type": "markdown",
      "metadata": {
        "hidden": true,
        "id": "rQ1lc-dYf9Rz"
      },
      "source": [
        "### Fazendo o predict de várias amostras"
      ]
    },
    {
      "cell_type": "markdown",
      "metadata": {
        "hidden": true,
        "id": "fh068Clrf9R0"
      },
      "source": [
        "$$ \\begin{matrix}\n",
        "\\begin{bmatrix}\n",
        "\\hat{y}_0\\\\\n",
        "\\hat{y}_1\\\\\n",
        "\\\\\n",
        "\\hat{y}_{M-1}\n",
        "\\end{bmatrix} &=& \\begin{bmatrix}\n",
        "1 & x_0 \\\\\n",
        "1 & x_1\\\\\n",
        "\\\\\n",
        "1 & x_{M-1} \\\\\n",
        "\\end{bmatrix}\n",
        "&\n",
        "\\begin{bmatrix}\n",
        "w_0\\\\\n",
        "w_1\n",
        "\\end{bmatrix} \\\\\n",
        "(M,1) & & (M,2) & (2,1) \\\\\n",
        "\\end{matrix} $$"
      ]
    },
    {
      "cell_type": "markdown",
      "metadata": {
        "hidden": true,
        "id": "jjSchAsZf9R2"
      },
      "source": [
        "### Preenchendo x com coluna de 1's para bias"
      ]
    },
    {
      "cell_type": "code",
      "execution_count": 7,
      "metadata": {
        "ExecuteTime": {
          "end_time": "2017-10-08T11:19:39.135089Z",
          "start_time": "2017-10-08T11:19:39.129385Z"
        },
        "hidden": true,
        "id": "plZEY5-tf9R2"
      },
      "outputs": [],
      "source": [
        "x_train_bias = np.hstack([np.ones(shape=(n_samples,1)), x_train])"
      ]
    },
    {
      "cell_type": "code",
      "execution_count": 8,
      "metadata": {
        "colab": {
          "base_uri": "https://localhost:8080/"
        },
        "id": "tXYx3JdMf9R6",
        "outputId": "87014f65-01e1-4df6-b7c1-cb20db82ebd7"
      },
      "outputs": [
        {
          "output_type": "execute_result",
          "data": {
            "text/plain": [
              "array([[1.        , 1.        ],\n",
              "       [1.        , 0.71428571],\n",
              "       [1.        , 0.95238095],\n",
              "       [1.        , 0.28571429],\n",
              "       [1.        , 0.76190476],\n",
              "       [1.        , 0.38095238],\n",
              "       [1.        , 0.66666667],\n",
              "       [1.        , 0.        ],\n",
              "       [1.        , 0.80952381],\n",
              "       [1.        , 0.14285714],\n",
              "       [1.        , 0.04761905],\n",
              "       [1.        , 0.47619048],\n",
              "       [1.        , 0.52380952],\n",
              "       [1.        , 0.57142857],\n",
              "       [1.        , 0.33333333],\n",
              "       [1.        , 0.85714286],\n",
              "       [1.        , 0.33333333],\n",
              "       [1.        , 0.42857143],\n",
              "       [1.        , 0.61904762],\n",
              "       [1.        , 0.33333333],\n",
              "       [1.        , 0.47619048],\n",
              "       [1.        , 0.57142857],\n",
              "       [1.        , 0.66666667],\n",
              "       [1.        , 0.57142857],\n",
              "       [1.        , 0.71428571],\n",
              "       [1.        , 0.80952381],\n",
              "       [1.        , 0.9047619 ],\n",
              "       [1.        , 0.85714286],\n",
              "       [1.        , 0.52380952],\n",
              "       [1.        , 0.38095238],\n",
              "       [1.        , 0.28571429],\n",
              "       [1.        , 0.28571429],\n",
              "       [1.        , 0.42857143],\n",
              "       [1.        , 0.52380952],\n",
              "       [1.        , 0.23809524],\n",
              "       [1.        , 0.52380952],\n",
              "       [1.        , 0.85714286],\n",
              "       [1.        , 0.66666667],\n",
              "       [1.        , 0.33333333],\n",
              "       [1.        , 0.28571429],\n",
              "       [1.        , 0.28571429],\n",
              "       [1.        , 0.57142857],\n",
              "       [1.        , 0.42857143],\n",
              "       [1.        , 0.04761905],\n",
              "       [1.        , 0.33333333],\n",
              "       [1.        , 0.38095238],\n",
              "       [1.        , 0.38095238],\n",
              "       [1.        , 0.61904762],\n",
              "       [1.        , 0.0952381 ],\n",
              "       [1.        , 0.38095238]])"
            ]
          },
          "metadata": {},
          "execution_count": 8
        }
      ],
      "source": [
        "x_train_bias"
      ]
    },
    {
      "cell_type": "markdown",
      "metadata": {
        "hidden": true,
        "id": "GOtS_8OSf9SC"
      },
      "source": [
        "### Classe com o modelo da rede"
      ]
    },
    {
      "cell_type": "code",
      "execution_count": 41,
      "metadata": {
        "ExecuteTime": {
          "end_time": "2017-10-08T11:19:39.143879Z",
          "start_time": "2017-10-08T11:19:39.137134Z"
        },
        "hidden": true,
        "id": "aKLVIQUtf9SD"
      },
      "outputs": [],
      "source": [
        "class Net():\n",
        "    def __init__(self, n_in, n_out):\n",
        "        self.w = np.random.uniform(-0.1,0.1,(n_out,n_in)) #inicialização dos parâmetros\n",
        "\n",
        "    def forward(self, x_bias):\n",
        "        return x_bias.dot(self.w.T)"
      ]
    },
    {
      "cell_type": "markdown",
      "metadata": {
        "hidden": true,
        "id": "0j0hN9l_f9SH"
      },
      "source": [
        "### Criando a rede, instanciando o objeto model"
      ]
    },
    {
      "cell_type": "code",
      "execution_count": 48,
      "metadata": {
        "ExecuteTime": {
          "end_time": "2017-10-08T11:19:39.151717Z",
          "start_time": "2017-10-08T11:19:39.146858Z"
        },
        "hidden": true,
        "id": "5o5Zkqn5f9SI"
      },
      "outputs": [],
      "source": [
        "model = Net(2,1) # duas entradas (1 + x0) e uma saída y_pred"
      ]
    },
    {
      "cell_type": "code",
      "source": [
        "model.w"
      ],
      "metadata": {
        "colab": {
          "base_uri": "https://localhost:8080/"
        },
        "id": "nNXE-nHRF5XI",
        "outputId": "703d5337-511e-4497-ce43-a311cc76afa2"
      },
      "execution_count": 46,
      "outputs": [
        {
          "output_type": "execute_result",
          "data": {
            "text/plain": [
              "array([[0.04119951]])"
            ]
          },
          "metadata": {},
          "execution_count": 46
        }
      ]
    },
    {
      "cell_type": "markdown",
      "metadata": {
        "hidden": true,
        "id": "F3yolUOGf9SL"
      },
      "source": [
        "### Testando o predict da rede (mesmo sem treiná-la)"
      ]
    },
    {
      "cell_type": "code",
      "source": [
        "np.random.randn(4,2)"
      ],
      "metadata": {
        "colab": {
          "base_uri": "https://localhost:8080/"
        },
        "id": "C-oYiF_yGR3l",
        "outputId": "9a95a5b1-7e8f-42cd-af14-3c62510eb1e9"
      },
      "execution_count": 19,
      "outputs": [
        {
          "output_type": "execute_result",
          "data": {
            "text/plain": [
              "array([[ 0.19342138,  0.55343891],\n",
              "       [ 1.31815155, -0.46930528],\n",
              "       [ 0.67555409, -1.81702723],\n",
              "       [-0.18310854,  1.05896919]])"
            ]
          },
          "metadata": {},
          "execution_count": 19
        }
      ]
    },
    {
      "cell_type": "code",
      "execution_count": 49,
      "metadata": {
        "ExecuteTime": {
          "end_time": "2017-10-08T11:19:39.162189Z",
          "start_time": "2017-10-08T11:19:39.156018Z"
        },
        "colab": {
          "base_uri": "https://localhost:8080/"
        },
        "hidden": true,
        "id": "BzkEurfof9SN",
        "outputId": "b71dd08f-8831-40b6-fae9-24e9c25e7fb9"
      },
      "outputs": [
        {
          "output_type": "execute_result",
          "data": {
            "text/plain": [
              "array([[0.28984214],\n",
              "       [0.10033418],\n",
              "       [0.081273  ],\n",
              "       [0.0447873 ]])"
            ]
          },
          "metadata": {},
          "execution_count": 49
        }
      ],
      "source": [
        "xin = np.random.randn(4,2) # 4 amostras, 2 entradas (1 + x0)\n",
        "ypred = model.forward(xin)\n",
        "ypred"
      ]
    },
    {
      "cell_type": "code",
      "source": [
        "ypred = model.forward(x_train_bias)\n",
        "ypred"
      ],
      "metadata": {
        "colab": {
          "base_uri": "https://localhost:8080/"
        },
        "id": "46iGntusGegv",
        "outputId": "1d02dc49-cbcc-48b1-ae67-15bac43bb554"
      },
      "execution_count": 30,
      "outputs": [
        {
          "output_type": "execute_result",
          "data": {
            "text/plain": [
              "array([[-0.15133528],\n",
              "       [-0.12958562],\n",
              "       [-0.14771034],\n",
              "       [-0.09696112],\n",
              "       [-0.13321056],\n",
              "       [-0.10421101],\n",
              "       [-0.12596067],\n",
              "       [-0.07521146],\n",
              "       [-0.13683551],\n",
              "       [-0.08608629],\n",
              "       [-0.0788364 ],\n",
              "       [-0.1114609 ],\n",
              "       [-0.11508584],\n",
              "       [-0.11871079],\n",
              "       [-0.10058607],\n",
              "       [-0.14046045],\n",
              "       [-0.10058607],\n",
              "       [-0.10783595],\n",
              "       [-0.12233573],\n",
              "       [-0.10058607],\n",
              "       [-0.1114609 ],\n",
              "       [-0.11871079],\n",
              "       [-0.12596067],\n",
              "       [-0.11871079],\n",
              "       [-0.12958562],\n",
              "       [-0.13683551],\n",
              "       [-0.14408539],\n",
              "       [-0.14046045],\n",
              "       [-0.11508584],\n",
              "       [-0.10421101],\n",
              "       [-0.09696112],\n",
              "       [-0.09696112],\n",
              "       [-0.10783595],\n",
              "       [-0.11508584],\n",
              "       [-0.09333618],\n",
              "       [-0.11508584],\n",
              "       [-0.14046045],\n",
              "       [-0.12596067],\n",
              "       [-0.10058607],\n",
              "       [-0.09696112],\n",
              "       [-0.09696112],\n",
              "       [-0.11871079],\n",
              "       [-0.10783595],\n",
              "       [-0.0788364 ],\n",
              "       [-0.10058607],\n",
              "       [-0.10421101],\n",
              "       [-0.10421101],\n",
              "       [-0.12233573],\n",
              "       [-0.08246135],\n",
              "       [-0.10421101]])"
            ]
          },
          "metadata": {},
          "execution_count": 30
        }
      ]
    },
    {
      "cell_type": "markdown",
      "metadata": {
        "heading_collapsed": true,
        "id": "edoSiy--f9SS"
      },
      "source": [
        "## Treinamento via gradiente descendente"
      ]
    },
    {
      "cell_type": "markdown",
      "metadata": {
        "hidden": true,
        "id": "SnkXXFref9ST"
      },
      "source": [
        "Função de perda:\n",
        "$$ J(\\hat{y_i},y_i) = \\frac{1}{M} \\sum_{i=0}^{M-1} (\\hat{y_i} - y_i)^2 $$"
      ]
    },
    {
      "cell_type": "markdown",
      "metadata": {
        "ExecuteTime": {
          "end_time": "2017-10-05T14:05:06.244776",
          "start_time": "2017-10-05T14:05:06.240743"
        },
        "hidden": true,
        "id": "6W5QcPwUf9SU"
      },
      "source": [
        "Gradiente:\n",
        "$$  \\mathbf{\\nabla{J_w}} = \\frac{2}{M}\\mathbf{x^T}(\\mathbf{x w^T} - \\mathbf{y}) $$"
      ]
    },
    {
      "cell_type": "markdown",
      "metadata": {
        "ExecuteTime": {
          "end_time": "2017-10-05T14:06:17.929718",
          "start_time": "2017-10-05T14:06:17.925519"
        },
        "hidden": true,
        "id": "6OoQuuvAf9SU"
      },
      "source": [
        "Atualização dos parâmetros pelo gradiente descendente:\n",
        "$$ \\mathbf{w} = \\mathbf{w} − \\eta (\\mathbf{\\nabla J_w})^T $$"
      ]
    },
    {
      "cell_type": "markdown",
      "metadata": {
        "hidden": true,
        "id": "YM0fEnAdf9SW"
      },
      "source": [
        "### Laço de treinamento"
      ]
    },
    {
      "cell_type": "code",
      "execution_count": 50,
      "metadata": {
        "ExecuteTime": {
          "end_time": "2017-10-08T11:19:39.183784Z",
          "start_time": "2017-10-08T11:19:39.165347Z"
        },
        "colab": {
          "base_uri": "https://localhost:8080/"
        },
        "hidden": true,
        "id": "BiCGgqp6f9SX",
        "outputId": "518b67c2-cb2d-4749-ba50-71a6172c8470",
        "scrolled": false
      },
      "outputs": [
        {
          "output_type": "stream",
          "name": "stdout",
          "text": [
            "Epoch[1/100], loss: 0.311178\n",
            "Epoch[2/100], loss: 0.051441\n",
            "Epoch[3/100], loss: 0.033450\n",
            "Epoch[4/100], loss: 0.031327\n",
            "Epoch[5/100], loss: 0.030327\n",
            "Epoch[6/100], loss: 0.029480\n",
            "Epoch[7/100], loss: 0.028714\n",
            "Epoch[8/100], loss: 0.028019\n",
            "Epoch[9/100], loss: 0.027388\n",
            "Epoch[10/100], loss: 0.026815\n",
            "Epoch[11/100], loss: 0.026295\n",
            "Epoch[12/100], loss: 0.025823\n",
            "Epoch[13/100], loss: 0.025395\n",
            "Epoch[14/100], loss: 0.025006\n",
            "Epoch[15/100], loss: 0.024652\n",
            "Epoch[16/100], loss: 0.024332\n",
            "Epoch[17/100], loss: 0.024040\n",
            "Epoch[18/100], loss: 0.023776\n",
            "Epoch[19/100], loss: 0.023536\n",
            "Epoch[20/100], loss: 0.023318\n",
            "Epoch[21/100], loss: 0.023120\n",
            "Epoch[22/100], loss: 0.022940\n",
            "Epoch[23/100], loss: 0.022777\n",
            "Epoch[24/100], loss: 0.022629\n",
            "Epoch[25/100], loss: 0.022495\n",
            "Epoch[26/100], loss: 0.022373\n",
            "Epoch[27/100], loss: 0.022262\n",
            "Epoch[28/100], loss: 0.022161\n",
            "Epoch[29/100], loss: 0.022070\n",
            "Epoch[30/100], loss: 0.021987\n",
            "Epoch[31/100], loss: 0.021912\n",
            "Epoch[32/100], loss: 0.021843\n",
            "Epoch[33/100], loss: 0.021781\n",
            "Epoch[34/100], loss: 0.021725\n",
            "Epoch[35/100], loss: 0.021674\n",
            "Epoch[36/100], loss: 0.021627\n",
            "Epoch[37/100], loss: 0.021585\n",
            "Epoch[38/100], loss: 0.021547\n",
            "Epoch[39/100], loss: 0.021512\n",
            "Epoch[40/100], loss: 0.021481\n",
            "Epoch[41/100], loss: 0.021452\n",
            "Epoch[42/100], loss: 0.021426\n",
            "Epoch[43/100], loss: 0.021402\n",
            "Epoch[44/100], loss: 0.021381\n",
            "Epoch[45/100], loss: 0.021361\n",
            "Epoch[46/100], loss: 0.021344\n",
            "Epoch[47/100], loss: 0.021328\n",
            "Epoch[48/100], loss: 0.021313\n",
            "Epoch[49/100], loss: 0.021300\n",
            "Epoch[50/100], loss: 0.021288\n",
            "Epoch[51/100], loss: 0.021277\n",
            "Epoch[52/100], loss: 0.021267\n",
            "Epoch[53/100], loss: 0.021258\n",
            "Epoch[54/100], loss: 0.021250\n",
            "Epoch[55/100], loss: 0.021242\n",
            "Epoch[56/100], loss: 0.021236\n",
            "Epoch[57/100], loss: 0.021230\n",
            "Epoch[58/100], loss: 0.021224\n",
            "Epoch[59/100], loss: 0.021219\n",
            "Epoch[60/100], loss: 0.021214\n",
            "Epoch[61/100], loss: 0.021210\n",
            "Epoch[62/100], loss: 0.021207\n",
            "Epoch[63/100], loss: 0.021203\n",
            "Epoch[64/100], loss: 0.021200\n",
            "Epoch[65/100], loss: 0.021197\n",
            "Epoch[66/100], loss: 0.021195\n",
            "Epoch[67/100], loss: 0.021192\n",
            "Epoch[68/100], loss: 0.021190\n",
            "Epoch[69/100], loss: 0.021188\n",
            "Epoch[70/100], loss: 0.021187\n",
            "Epoch[71/100], loss: 0.021185\n",
            "Epoch[72/100], loss: 0.021184\n",
            "Epoch[73/100], loss: 0.021182\n",
            "Epoch[74/100], loss: 0.021181\n",
            "Epoch[75/100], loss: 0.021180\n",
            "Epoch[76/100], loss: 0.021179\n",
            "Epoch[77/100], loss: 0.021178\n",
            "Epoch[78/100], loss: 0.021177\n",
            "Epoch[79/100], loss: 0.021177\n",
            "Epoch[80/100], loss: 0.021176\n",
            "Epoch[81/100], loss: 0.021175\n",
            "Epoch[82/100], loss: 0.021175\n",
            "Epoch[83/100], loss: 0.021174\n",
            "Epoch[84/100], loss: 0.021174\n",
            "Epoch[85/100], loss: 0.021173\n",
            "Epoch[86/100], loss: 0.021173\n",
            "Epoch[87/100], loss: 0.021173\n",
            "Epoch[88/100], loss: 0.021172\n",
            "Epoch[89/100], loss: 0.021172\n",
            "Epoch[90/100], loss: 0.021172\n",
            "Epoch[91/100], loss: 0.021172\n",
            "Epoch[92/100], loss: 0.021171\n",
            "Epoch[93/100], loss: 0.021171\n",
            "Epoch[94/100], loss: 0.021171\n",
            "Epoch[95/100], loss: 0.021171\n",
            "Epoch[96/100], loss: 0.021171\n",
            "Epoch[97/100], loss: 0.021171\n",
            "Epoch[98/100], loss: 0.021171\n",
            "Epoch[99/100], loss: 0.021170\n",
            "Epoch[100/100], loss: 0.021170\n",
            "[0.3111784349698548, 0.051441369143007974, 0.03345033215232397, 0.0313274158116755, 0.030327172696381664, 0.029479539077464954, 0.028713917336416848, 0.028019065416808417, 0.027388224878553948, 0.026815484689542774, 0.026295492890071298, 0.025823391383643198, 0.02539476955798724, 0.025005623014186296, 0.02465231615136464, 0.024331548200818107, 0.024040322388570595, 0.02377591793801774, 0.023535864651076474, 0.023317919830364048, 0.023120047326801993, 0.022940398516897127, 0.022777295031980067, 0.022629213078049073, 0.022494769199727472, 0.022372707355334337, 0.02226188718231751, 0.022161273343418563, 0.022069925854036408, 0.02198699130042293, 0.021911694866666623, 0.021843333095976455, 0.021781267318638026, 0.02172491768524305, 0.021673757749447277, 0.02162730954964656, 0.02158513914362142, 0.021546852554432706, 0.0215120920896928, 0.021480532999825063, 0.021451880444091683, 0.021425866736044467, 0.021402248842664798, 0.021380806113828116, 0.021361338220880502, 0.02134366328506862, 0.02132761617833783, 0.02131304698062362, 0.021299819579223677, 0.02128781039716525, 0.02127690723868749, 0.021267008241052782, 0.021258020922894316, 0.02124986132020905, 0.02124245320192421, 0.021235727357708626, 0.021229620951375344, 0.021224076933834636, 0.021219043510113052, 0.021214473655458907, 0.021210324676013678, 0.021206557809944685, 0.02120313786531274, 0.021200032891291545, 0.02119721387966713, 0.02119465449382869, 0.021192330822718826, 0.021190221157444556, 0.021188305788462022, 0.02118656682144009, 0.021184988010082628, 0.021183554604347482, 0.02118225321264427, 0.021181071676723447, 0.021179998958087885, 0.02117902503486575, 0.021178140808181162, 0.021177338017147985, 0.021176609161692502, 0.021175947432483976, 0.02117534664731852, 0.02117480119336186, 0.021174305974711424, 0.021173856364787906, 0.02117344816311143, 0.021173077556058618, 0.02117274108123375, 0.021172435595121428, 0.021172158243718205, 0.021171906435869123, 0.02117167781905982, 0.021171470257438194, 0.021171281811860173, 0.021171110721773315, 0.021170955388768786, 0.02117081436164829, 0.021170686322866224, 0.021170570076220502, 0.021170464535677048, 0.02117036871522354]\n"
          ]
        }
      ],
      "source": [
        "num_epochs = 100\n",
        "learning_rate = 0.5\n",
        "losses = []\n",
        "for epoch in range(num_epochs):\n",
        "\n",
        "    # forward - predict\n",
        "    y_pred = model.forward(x_train_bias)\n",
        "\n",
        "    #loss cálculo da função de perda\n",
        "    loss = np.square(y_pred - y_train).mean()\n",
        "    losses.append(loss)\n",
        "\n",
        "    # cálculo do gradiente pelas derivadas parciais\n",
        "    w_grad = (2.0/n_samples) * (x_train_bias.T).dot(x_train_bias.dot(model.w.T) - y_train)\n",
        "\n",
        "    # gradiente descendente\n",
        "    model.w = model.w - learning_rate * w_grad.T\n",
        "\n",
        "    # verbose\n",
        "    if (epoch+1) % 1 == 0:\n",
        "        print('Epoch[{}/{}], loss: {:.6f}'\n",
        "              .format(epoch+1, num_epochs, loss))\n",
        "print(losses)"
      ]
    },
    {
      "cell_type": "markdown",
      "metadata": {
        "heading_collapsed": true,
        "id": "1QGlDZABf9Sd"
      },
      "source": [
        "## Avaliação"
      ]
    },
    {
      "cell_type": "markdown",
      "metadata": {
        "hidden": true,
        "id": "6TIimlCmf9Si"
      },
      "source": [
        "### Predict"
      ]
    },
    {
      "cell_type": "code",
      "execution_count": 37,
      "metadata": {
        "ExecuteTime": {
          "end_time": "2017-10-08T11:19:39.408412Z",
          "start_time": "2017-10-08T11:19:39.186021Z"
        },
        "colab": {
          "base_uri": "https://localhost:8080/",
          "height": 447
        },
        "hidden": true,
        "id": "ToXwbrlsf9Sk",
        "outputId": "00b79c42-0a41-444d-b607-564dc50738bd"
      },
      "outputs": [
        {
          "output_type": "execute_result",
          "data": {
            "text/plain": [
              "[<matplotlib.lines.Line2D at 0x7ff5611ce0e0>]"
            ]
          },
          "metadata": {},
          "execution_count": 37
        },
        {
          "output_type": "display_data",
          "data": {
            "text/plain": [
              "<Figure size 640x480 with 1 Axes>"
            ],
            "image/png": "[encoded data removed]"
          },
          "metadata": {}
        }
      ],
      "source": [
        "y_pred = model.forward(x_train_bias)\n",
        "plt.plot(x_train, y_train, 'ro', label='Original data')\n",
        "plt.plot(x_train, y_pred, 'kx-', label='Fitting Line')"
      ]
    },
    {
      "cell_type": "markdown",
      "metadata": {
        "hidden": true,
        "id": "kQ1hGdItf9So"
      },
      "source": [
        "### Parâmetros treinados"
      ]
    },
    {
      "cell_type": "code",
      "execution_count": 38,
      "metadata": {
        "ExecuteTime": {
          "end_time": "2017-10-08T11:19:39.417569Z",
          "start_time": "2017-10-08T11:19:39.411060Z"
        },
        "colab": {
          "base_uri": "https://localhost:8080/"
        },
        "hidden": true,
        "id": "IcEOxTg9f9Sp",
        "outputId": "797e8d96-e261-4e51-f98f-4fc812524aa7"
      },
      "outputs": [
        {
          "output_type": "stream",
          "name": "stdout",
          "text": [
            "[[0.26304279 0.683184  ]]\n"
          ]
        }
      ],
      "source": [
        "print(model.w)"
      ]
    },
    {
      "cell_type": "markdown",
      "metadata": {
        "hidden": true,
        "id": "73n0qSOMf9Sr"
      },
      "source": [
        "### Avaliação do modelo"
      ]
    },
    {
      "cell_type": "code",
      "execution_count": 39,
      "metadata": {
        "colab": {
          "base_uri": "https://localhost:8080/"
        },
        "hidden": true,
        "id": "dI2TE8W6f9Ss",
        "outputId": "2522557c-4c04-4e33-df32-b11e5bfa7d73"
      },
      "outputs": [
        {
          "output_type": "execute_result",
          "data": {
            "text/plain": [
              "0.02117006977067412"
            ]
          },
          "metadata": {},
          "execution_count": 39
        }
      ],
      "source": [
        "loss = np.square(y_pred - y_train).mean()\n",
        "loss"
      ]
    },
    {
      "cell_type": "markdown",
      "metadata": {
        "hidden": true,
        "id": "cv6q3ElSf9Sv"
      },
      "source": [
        "### Valor ótimo, solução analítica"
      ]
    },
    {
      "cell_type": "markdown",
      "metadata": {
        "hidden": true,
        "id": "qYgHOaNmf9Sv"
      },
      "source": [
        "$$  \\mathbf{w} =(\\mathbf{x^T} \\mathbf{x})^{−1}\\mathbf{x^T} \\mathbf{y} $$"
      ]
    },
    {
      "cell_type": "code",
      "execution_count": 68,
      "metadata": {
        "ExecuteTime": {
          "end_time": "2017-10-08T11:19:39.432480Z",
          "start_time": "2017-10-08T11:19:39.420006Z"
        },
        "colab": {
          "base_uri": "https://localhost:8080/"
        },
        "hidden": true,
        "id": "OmrggYvmf9Sw",
        "outputId": "1ecfa29f-090b-4581-9a2a-1c0f9616f39e"
      },
      "outputs": [
        {
          "output_type": "stream",
          "name": "stdout",
          "text": [
            "[[0.26134159 0.68646976]]\n"
          ]
        }
      ],
      "source": [
        "x = x_train_bias\n",
        "y = y_train\n",
        "w_opt = (np.linalg.inv((x.T).dot(x)).dot(x.T)).dot(y)\n",
        "print(w_opt.T)"
      ]
    },
    {
      "cell_type": "code",
      "source": [
        "[[0.26304279 0.683184  ]]"
      ],
      "metadata": {
        "id": "rt2edW9FNlww"
      },
      "execution_count": null,
      "outputs": []
    },
    {
      "cell_type": "markdown",
      "metadata": {
        "heading_collapsed": true,
        "id": "2eMOcW8Ff9Sz"
      },
      "source": [
        "# Exercícios"
      ]
    },
    {
      "cell_type": "markdown",
      "metadata": {
        "hidden": true,
        "id": "tCKeOB1-f9S1"
      },
      "source": [
        "## Questões"
      ]
    },
    {
      "cell_type": "markdown",
      "metadata": {
        "hidden": true,
        "id": "c-KyP13vf9S2"
      },
      "source": [
        "1. Quantos parâmetros são treinados nesse modelo?\n",
        "2 -> w0 e w1\n",
        "2. Qual é o número de atributos de entrada para a rede?\n",
        "2 (bias e x)\n",
        "3. Qual é o número de saídas da rede?\n",
        "1\n",
        "4. Suponha que eu tenha agora 5 mil amostras para fazer a predição. Qual é o shape da matriz de entrada?\n",
        "[5000,2]\n",
        "   Qual é o shape do matriz de saída?\n",
        "[5000,1]"
      ]
    },
    {
      "cell_type": "markdown",
      "metadata": {
        "hidden": true,
        "id": "oaj0t2gpf9S3"
      },
      "source": [
        "## Atividades"
      ]
    },
    {
      "cell_type": "markdown",
      "metadata": {
        "hidden": true,
        "id": "pR_fNYurf9S3"
      },
      "source": [
        "1. Modifique o laço do treinamento via gradiente descendente para guardar em uma lista, o valor da perda no final\n",
        "   de cada época. Após o treinamento, plote o valor da perda em função da época.\n",
        "2. Calcule o valor da perda (MSE) da rede com os parâmetros inicializados, sem serem treinados.\n",
        "3. Coloque os valores dos pesos da solução ótima analítica no modelo da rede e calcule o valor da perda (MSE) e\n",
        "   compare com o valor da perda obtida pelo método da otimização via gradiente descendente."
      ]
    },
    {
      "cell_type": "code",
      "source": [
        "# 2\n",
        "\n",
        "model2 = Net(2,1)\n",
        "print(model2.w)\n",
        "y_pred = model2.forward(x_train_bias)\n",
        "loss = np.square(y_pred - y_train).mean()\n",
        "print(loss)"
      ],
      "metadata": {
        "colab": {
          "base_uri": "https://localhost:8080/"
        },
        "id": "JqA2XBzVQnTR",
        "outputId": "fb6edba9-191e-4d1d-975c-d66564f5b727"
      },
      "execution_count": 63,
      "outputs": [
        {
          "output_type": "stream",
          "name": "stdout",
          "text": [
            "[[ 0.01983096 -0.04177495]]\n",
            "0.41350365055698063\n"
          ]
        }
      ]
    },
    {
      "cell_type": "code",
      "source": [],
      "metadata": {
        "id": "6heSHckNSLmm"
      },
      "execution_count": null,
      "outputs": []
    },
    {
      "cell_type": "code",
      "source": [
        "# 3\n",
        "\n",
        "model3 = Net(2,1)\n",
        "x = x_train_bias\n",
        "y = y_train\n",
        "w_opt = (np.linalg.inv((x.T).dot(x)).dot(x.T)).dot(y)\n",
        "model3.w[0][0] = w_opt[0]\n",
        "model3.w[0][1] = w_opt[1]\n",
        "y_pred_otimo = model3.forward(x_train_bias)\n",
        "loss_otima = np.square(y_pred_otimo - y_train).mean()\n",
        "print(\"Perda otimo\")\n",
        "print(loss_otima)\n",
        "\n",
        "y_pred_treinamento = model.forward(x_train_bias)\n",
        "loss_treinamento = np.square(y_pred_treinamento - y_train).mean()\n",
        "print(\"Perda Treinamento\")\n",
        "print(loss_treinamento)"
      ],
      "metadata": {
        "colab": {
          "base_uri": "https://localhost:8080/"
        },
        "id": "oYV-Rh1kQ5Cg",
        "outputId": "83abdb60-7c8d-43e5-f32c-b129752a8c31"
      },
      "execution_count": 70,
      "outputs": [
        {
          "output_type": "stream",
          "name": "stdout",
          "text": [
            "[[0.26134159 0.68646976]]\n",
            "Perda otimo\n",
            "0.021169424119097165\n",
            "Perda Treinamento\n",
            "0.021170281719657572\n"
          ]
        },
        {
          "output_type": "stream",
          "name": "stderr",
          "text": [
            "<ipython-input-70-0b65e51e270c>:7: DeprecationWarning: Conversion of an array with ndim > 0 to a scalar is deprecated, and will error in future. Ensure you extract a single element from your array before performing this operation. (Deprecated NumPy 1.25.)\n",
            "  model3.w[0][0] = w_opt[0]\n",
            "<ipython-input-70-0b65e51e270c>:8: DeprecationWarning: Conversion of an array with ndim > 0 to a scalar is deprecated, and will error in future. Ensure you extract a single element from your array before performing this operation. (Deprecated NumPy 1.25.)\n",
            "  model3.w[0][1] = w_opt[1]\n"
          ]
        }
      ]
    },
    {
      "cell_type": "markdown",
      "metadata": {
        "collapsed": true,
        "id": "tgmMhSm2f9S4"
      },
      "source": [
        "# Aprendizados"
      ]
    }
  ],
  "metadata": {
    "accelerator": "TPU",
    "colab": {
      "provenance": [],
      "gpuType": "V28"
    },
    "kernelspec": {
      "display_name": "Python 3.10.2 64-bit",
      "language": "python",
      "name": "python3"
    },
    "language_info": {
      "name": "python",
      "version": "3.10.2"
    },
    "vscode": {
      "interpreter": {
        "hash": "5fe3e6f0cdaab8afdc61c52912fda83f7c0a71baaea1897dd7498e2df01e69ec"
      }
    }
  },
  "nbformat": 4,
  "nbformat_minor": 0
}